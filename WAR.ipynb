{
 "cells": [
  {
   "cell_type": "code",
   "execution_count": 1,
   "id": "90bbddf5",
   "metadata": {},
   "outputs": [],
   "source": [
    "import pandas as pd\n",
    "import numpy as np\n",
    "import joblib"
   ]
  },
  {
   "cell_type": "code",
   "execution_count": 2,
   "id": "bf93b359",
   "metadata": {},
   "outputs": [],
   "source": [
    "proj = pd.read_csv('../../../Documents/GitHub/Frontier-League-Savant/csvs/2024 Pitcher Projections.csv')\n",
    "proj_hit = pd.read_csv('../../../Documents/GitHub/Frontier-League-Savant/csvs/2024 Hitter Projections.csv')\n",
    "catchers = pd.read_csv('../../../Documents/GitHub/Frontier-League-Savant/csvs/catcherLeaderboard.csv')\n",
    "positions = pd.read_csv('../../../Desktop/Joliet Slammers/Baseball Reference/2023 Frontier League Positions.csv')"
   ]
  },
  {
   "cell_type": "code",
   "execution_count": 3,
   "id": "17819432",
   "metadata": {},
   "outputs": [
    {
     "name": "stderr",
     "output_type": "stream",
     "text": [
      "C:\\Users\\kellyjc\\AppData\\Local\\Temp\\ipykernel_18220\\4129827602.py:1: DtypeWarning: Columns (17,74) have mixed types. Specify dtype option on import or set low_memory=False.\n",
      "  fl = pd.read_csv('../../../Desktop/Joliet Slammers/AutomatedPitchTagging/AutotaggedCSVs/2023 Frontier League Autotagged (122723).csv')\n"
     ]
    }
   ],
   "source": [
    "fl = pd.read_csv('../../../Desktop/Joliet Slammers/AutomatedPitchTagging/AutotaggedCSVs/2023 Frontier League Autotagged (122723).csv')"
   ]
  },
  {
   "cell_type": "code",
   "execution_count": 4,
   "id": "e080138c",
   "metadata": {},
   "outputs": [],
   "source": [
    "def calculate_park_factors(df):\n",
    "    pf_list = []\n",
    "    \n",
    "    for team in df['HomeTeam'].unique():\n",
    "        home_data = df[(df['HomeTeam'] == team)]\n",
    "        away_data = df[(df['AwayTeam'] == team)]\n",
    "        \n",
    "        home_xwOBA = home_data['xwOBAcon_model'].mean()\n",
    "        away_xwOBA = away_data['xwOBAcon_model'].mean()\n",
    "        \n",
    "        if away_xwOBA == 0:\n",
    "            continue\n",
    "        \n",
    "        park_factor = home_xwOBA / away_xwOBA\n",
    "        pf_df = pd.DataFrame({'Team': [team], 'PF': [park_factor]})\n",
    "        pf_list.append(pf_df)\n",
    "\n",
    "    pf_df = pd.DataFrame({'Team': ['ESG'], 'PF': [1]})\n",
    "    pf_list.append(pf_df)\n",
    "    \n",
    "    pf_df = pd.concat(pf_list, ignore_index=True)\n",
    "    mean_pf = pf_df['PF'].mean()\n",
    "    scaling_factor = 100 / mean_pf\n",
    "    \n",
    "    pf_df['PF'] = pf_df['PF'] * scaling_factor\n",
    "    \n",
    "    return pf_df\n",
    "\n",
    "park_factors_df = calculate_park_factors(fl)"
   ]
  },
  {
   "cell_type": "code",
   "execution_count": 5,
   "id": "f100479c",
   "metadata": {},
   "outputs": [],
   "source": [
    "proj.Team = proj.Team.replace({'Aigles de Trois-Rivières': 'TRI', \n",
    "                             'Evansville Otters': 'EVN',\n",
    "                             \"Florence Y'Alls\": 'FLR', \n",
    "                             'Gateway Grizzlies': 'GAT',\n",
    "                             \"Joliet Slammers\": 'JOL',\n",
    "                             \"Lake Erie Crushers\": 'LEC',\n",
    "                             \"New Jersey Jackals\": 'NJJ',\n",
    "                             \"New York Boulders\": 'RKL',\n",
    "                             'Ottawa Titans': 'OTT',\n",
    "                             \"Capitales de Québec\": 'QUE',\n",
    "                             \"Schaumburg Boomers\": 'SCH',\n",
    "                             'Sussex County Miners': 'SSX',\n",
    "                             'Tri-City Valley Cats': 'TRC',\n",
    "                             'Washington WildThings': 'WST',\n",
    "                             'Windy City ThunderBolts': 'WCT',\n",
    "                             'Empire State Greys': 'ESG'})\n",
    "\n",
    "proj_hit.Team = proj_hit.Team.replace({'Aigles de Trois-Rivières': 'TRI', \n",
    "                             'Evansville Otters': 'EVN',\n",
    "                             \"Florence Y'Alls\": 'FLR', \n",
    "                             'Gateway Grizzlies': 'GAT',\n",
    "                             \"Joliet Slammers\": 'JOL',\n",
    "                             \"Lake Erie Crushers\": 'LEC',\n",
    "                             \"New Jersey Jackals\": 'NJJ',\n",
    "                             \"New York Boulders\": 'RKL',\n",
    "                             'Ottawa Titans': 'OTT',\n",
    "                             \"Capitales de Québec\": 'QUE',\n",
    "                             \"Schaumburg Boomers\": 'SCH',\n",
    "                             'Sussex County Miners': 'SSX',\n",
    "                             'Tri-City Valley Cats': 'TRC',\n",
    "                             'Washington WildThings': 'WST',\n",
    "                             'Windy City ThunderBolts': 'WCT', \n",
    "                             'Empire State Greys': 'ESG'})\n",
    "\n",
    "park_factors_df.Team = park_factors_df.Team.replace({'Trois Rivieres Aigles': 'TRI', \n",
    "                             'Evansville otters': 'EVN',\n",
    "                             \"Florence Y'alls\": 'FLR', \n",
    "                             'Gateway grizzlies': 'GAT',\n",
    "                             \"Joliet slammers\": 'JOL',\n",
    "                             \"Lake Erie Crushers\": 'LEC',\n",
    "                             \"New jersey jackals\": 'NJJ',\n",
    "                             \"New York Boulders\": 'RKL',\n",
    "                             'Ottawa titans': 'OTT',\n",
    "                             \"Quebec Capitales\": 'QUE',\n",
    "                             \"Schaumburg Boomers\": 'SCH',\n",
    "                             'Sussex county miners': 'SSX',\n",
    "                             'Valleycats': 'TRC',\n",
    "                             'Washington Wild Things': 'WST',\n",
    "                             'Windy City ThunderBolts': 'WCT',\n",
    "                             'Empire State Greys': 'ESG'})"
   ]
  },
  {
   "cell_type": "code",
   "execution_count": 6,
   "id": "9c5f5afe",
   "metadata": {},
   "outputs": [],
   "source": [
    "proj = pd.merge(park_factors_df, proj, on='Team', how='right')"
   ]
  },
  {
   "cell_type": "code",
   "execution_count": 7,
   "id": "e34cdb8e",
   "metadata": {},
   "outputs": [],
   "source": [
    "proj_hit = pd.merge(park_factors_df, proj_hit, on='Team', how='right')"
   ]
  },
  {
   "cell_type": "code",
   "execution_count": 8,
   "id": "010ff993",
   "metadata": {},
   "outputs": [],
   "source": [
    "proj['fipr9'] = (proj['RA9'].mean() - proj['ERA'].mean()) + proj['FIP']\n",
    "proj['fipr9'] = proj['fipr9'] / (proj['PF'] / 100)\n",
    "proj['IP/G'] = proj['IP'] / proj['G']\n",
    "proj['drpw'] = ((((18 - proj['IP/G']) * (proj['fipr9'].mean())) + ((proj['IP/G']) * proj['fipr9'])) / 18 + 2) * 1.5\n",
    "proj['raap9'] = proj['fipr9'].mean() - proj['fipr9']\n",
    "proj['wpgaa'] = proj['raap9'] / proj['drpw']\n",
    "proj['gs/g'] = proj['GS'] / proj['G']\n",
    "proj['replacement_level'] = (0.03 * (1 - proj['gs/g'])) + (0.12 * proj['gs/g'])\n",
    "proj['wpgar'] = proj['wpgaa'] + proj['replacement_level']\n",
    "proj['pit-WAR'] = proj['wpgar'] * (proj['IP'] / 9) + (-0.000682902 * proj['IP'])"
   ]
  },
  {
   "cell_type": "code",
   "execution_count": 9,
   "id": "35f0e470",
   "metadata": {},
   "outputs": [],
   "source": [
    "proj = proj.dropna(subset=['pit-WAR']).drop(columns=['Unnamed: 0'])"
   ]
  },
  {
   "cell_type": "code",
   "execution_count": 10,
   "id": "42ffcee0",
   "metadata": {},
   "outputs": [],
   "source": [
    "woba_scale = 1.204\n",
    "\n",
    "woba = proj_hit['wOBA']\n",
    "league_woba = proj_hit['wOBA'].mean()\n",
    "league_rpa = (proj_hit['R'] / proj_hit['PA']).mean()\n",
    "pa = proj_hit['PA']\n",
    "proj_hit['wRC'] = (((woba - league_woba) / woba_scale) + (league_rpa)) * pa\n",
    "league_wrcpa = (proj_hit['wRC'] / proj_hit['PA']).mean()\n",
    "lgR_per_PA = (proj_hit['R'] / proj_hit['PA']).mean() \n",
    "proj_hit['wRAA'] = ((proj_hit['wOBA_WAR'] - proj_hit['wOBA_WAR'].mean()) / woba_scale) * proj_hit.PA"
   ]
  },
  {
   "cell_type": "code",
   "execution_count": 11,
   "id": "1be6fd98",
   "metadata": {},
   "outputs": [],
   "source": [
    "wRAA = proj_hit['wRAA']\n",
    "pf = proj_hit['PF'] / 100\n",
    "\n",
    "proj_hit['batting_runs'] = proj_hit['wRAA'] + (league_rpa - (pf * league_rpa)) * pa + (league_rpa - (league_wrcpa)) * pa\n",
    "proj_hit['replacement_level_runs'] = (570 * (1440 / 2430)) * (10 / pa.sum()) * pa"
   ]
  },
  {
   "cell_type": "code",
   "execution_count": 12,
   "id": "e598447e",
   "metadata": {},
   "outputs": [],
   "source": [
    "proj_hit['bat-WAR'] = (proj_hit['batting_runs'] + proj_hit['replacement_level_runs']) / 10"
   ]
  },
  {
   "cell_type": "code",
   "execution_count": 13,
   "id": "c5ff2e88",
   "metadata": {},
   "outputs": [],
   "source": [
    "wraa_pa = proj_hit['wRAA'] / proj_hit['PA'] \n",
    "league_wrcpa = (proj_hit['wRC'] / proj_hit['PA']).mean()\n",
    "proj_hit['wRC+'] = (((wraa_pa + league_rpa) + (league_rpa - pf * league_rpa)) / (league_wrcpa)) * 100"
   ]
  },
  {
   "cell_type": "code",
   "execution_count": 14,
   "id": "0cd03c9b",
   "metadata": {},
   "outputs": [],
   "source": [
    "catchers['cat-WAR'] = catchers['Framing Runs'] / 10"
   ]
  },
  {
   "cell_type": "code",
   "execution_count": 15,
   "id": "c16f7ad0",
   "metadata": {},
   "outputs": [],
   "source": [
    "proj_hit = pd.merge(proj_hit, catchers, left_on='Name', right_on='Catcher', how='left')"
   ]
  },
  {
   "cell_type": "code",
   "execution_count": 16,
   "id": "298c576a",
   "metadata": {},
   "outputs": [],
   "source": [
    "proj_hit['cat-WAR'].replace('cat-WAR', 0, inplace=True)\n",
    "proj_hit['cat-WAR'].fillna(0, inplace=True)"
   ]
  },
  {
   "cell_type": "code",
   "execution_count": 17,
   "id": "92cd17b9",
   "metadata": {},
   "outputs": [],
   "source": [
    "proj_hit['bat-WAR'] = proj_hit['bat-WAR'] + proj_hit['cat-WAR']"
   ]
  },
  {
   "cell_type": "code",
   "execution_count": 18,
   "id": "c6d3ff9e",
   "metadata": {},
   "outputs": [],
   "source": [
    "positions['RV'] = positions['Position'].map({'Centerfielder': 2.5, 'Catcher': 5.5, 'Second': 1.5, 'First': -5, 'Third': 1.5, 'Shortstop': 5, 'Leftfielder': -3.5, 'Rightfielder': -3.5, 'Designated': -8})"
   ]
  },
  {
   "cell_type": "code",
   "execution_count": 19,
   "id": "14836ff2",
   "metadata": {},
   "outputs": [],
   "source": [
    "proj_hit = pd.merge(proj_hit, positions, on='Name', how='left')"
   ]
  },
  {
   "cell_type": "code",
   "execution_count": 20,
   "id": "73497d58",
   "metadata": {},
   "outputs": [],
   "source": [
    "proj_hit['RV'].replace('RV', 0, inplace=True)\n",
    "proj_hit['RV'].fillna(0, inplace=True)"
   ]
  },
  {
   "cell_type": "code",
   "execution_count": 21,
   "id": "a89ed4bd",
   "metadata": {},
   "outputs": [],
   "source": [
    "proj_hit['positional_adj'] = (((proj_hit['PA'] / 4) / 9) / 96) * proj_hit['RV']"
   ]
  },
  {
   "cell_type": "code",
   "execution_count": 22,
   "id": "06d38c6d",
   "metadata": {},
   "outputs": [],
   "source": [
    "proj_hit['bat-WAR'] += proj_hit['positional_adj']"
   ]
  },
  {
   "cell_type": "code",
   "execution_count": 24,
   "id": "e4d9939a",
   "metadata": {
    "scrolled": true
   },
   "outputs": [],
   "source": [
    "proj_hit[['Name', 'Age', 'PA', '1B', '2B', '3B', 'HR', 'SO', 'SB', 'BB', 'wOBA', 'BA', 'SLG', 'OBP', 'BAbip', 'wRC+', 'bat-WAR']].to_csv('../../../Documents/GitHub/Frontier-League-Savant/csvs/2024 Hitter Projections.csv')"
   ]
  },
  {
   "cell_type": "code",
   "execution_count": 26,
   "id": "a81cff8d",
   "metadata": {},
   "outputs": [],
   "source": [
    "proj[['Name', 'Age', 'IP', 'W', 'L', 'S', 'K', 'BB', 'HR', 'ERA', 'FIP', 'K/9', 'BB/9', 'K/BB', 'pit-WAR']].to_csv('../../../Documents/GitHub/Frontier-League-Savant/csvs/2024 Pitcher Projections.csv')"
   ]
  }
 ],
 "metadata": {
  "kernelspec": {
   "display_name": "Python 3 (ipykernel)",
   "language": "python",
   "name": "python3"
  },
  "language_info": {
   "codemirror_mode": {
    "name": "ipython",
    "version": 3
   },
   "file_extension": ".py",
   "mimetype": "text/x-python",
   "name": "python",
   "nbconvert_exporter": "python",
   "pygments_lexer": "ipython3",
   "version": "3.9.7"
  }
 },
 "nbformat": 4,
 "nbformat_minor": 5
}
