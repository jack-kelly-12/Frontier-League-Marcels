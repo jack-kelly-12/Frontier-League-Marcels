{
 "cells": [
  {
   "cell_type": "code",
   "execution_count": 1,
   "id": "7e9c6fff",
   "metadata": {},
   "outputs": [],
   "source": [
    "import pandas as pd\n",
    "import numpy as np\n",
    "import math"
   ]
  },
  {
   "cell_type": "code",
   "execution_count": 2,
   "id": "0cd67af3",
   "metadata": {},
   "outputs": [],
   "source": [
    "pitching_23 = pd.read_csv('../../../Desktop/Joliet Slammers/Baseball Reference/2023 Frontier League Pitching.csv')\n",
    "pitching_23['Name'] = pitching_23['Name'].str.replace('*', '')\n",
    "pitching_23['Name'] = pitching_23['Name'].str.replace('#', '')\n",
    "pitching_23['Name'] = pitching_23['Name'].str.replace('?', '')\n",
    "pitching_23['Year'] = 2023\n",
    "\n",
    "pitching_22 = pd.read_csv('../../../Desktop/Joliet Slammers/Baseball Reference/2022 Frontier League Pitching.csv')\n",
    "pitching_22['Name'] = pitching_22['Name'].str.replace('*', '')\n",
    "pitching_22['Name'] = pitching_22['Name'].str.replace('#', '')\n",
    "pitching_22['Year'] = 2022\n",
    "\n",
    "pitching_21 = pd.read_csv('../../../Desktop/Joliet Slammers/Baseball Reference/2021 Frontier League Pitching.csv')\n",
    "pitching_21['Name'] = pitching_21['Name'].str.replace('*', '')\n",
    "pitching_21['Name'] = pitching_21['Name'].str.replace('#', '')\n",
    "pitching_22['Name'] = pitching_22['Name'].str.replace('?', '')\n",
    "pitching_21['Name'] = pitching_21['Name'].str.replace('?', '')\n",
    "pitching_21['Year'] = 2021\n",
    "\n",
    "hitting_23 = pd.read_csv('../../../Desktop/Joliet Slammers/Baseball Reference/2023 Frontier League Hitting.csv')\n",
    "hitting_23['Name'] = hitting_23['Name'].str.replace('*', '')\n",
    "hitting_23['Name'] = hitting_23['Name'].str.replace('#', '')\n",
    "hitting_23['Name'] = hitting_23['Name'].str.replace('?', '')\n",
    "hitting_23['Year'] = 2023\n",
    "\n",
    "hitting_22 = pd.read_csv('../../../Desktop/Joliet Slammers/Baseball Reference/2022 Frontier League Hitting.csv')\n",
    "hitting_22['Name'] = hitting_22['Name'].str.replace('*', '')\n",
    "hitting_22['Name'] = hitting_22['Name'].str.replace('#', '')\n",
    "hitting_22['Name'] = hitting_22['Name'].str.replace('?', '')\n",
    "hitting_22['Year'] = 2022\n",
    "\n",
    "hitting_21 = pd.read_csv('../../../Desktop/Joliet Slammers/Baseball Reference/2021 Frontier League Hitting.csv')\n",
    "hitting_21['Name'] = hitting_21['Name'].str.replace('*', '')\n",
    "hitting_21['Name'] = hitting_21['Name'].str.replace('#', '')\n",
    "hitting_21['Name'] = hitting_21['Name'].str.replace('?', '')\n",
    "hitting_21['Year'] = 2021"
   ]
  },
  {
   "cell_type": "code",
   "execution_count": 3,
   "id": "c0db57ed",
   "metadata": {},
   "outputs": [],
   "source": [
    "def combine_rows(df):\n",
    "    return df.groupby('Name', as_index=False).agg({\n",
    "        col: 'first' for col in df.columns\n",
    "    })\n",
    "\n",
    "pitching_23 = combine_rows(pitching_23)\n",
    "pitching_22 = combine_rows(pitching_22)\n",
    "pitching_21 = combine_rows(pitching_21)\n",
    "\n",
    "hitting_23 = combine_rows(hitting_23)\n",
    "hitting_22 = combine_rows(hitting_22)\n",
    "hitting_21 = combine_rows(hitting_21)"
   ]
  },
  {
   "cell_type": "code",
   "execution_count": 4,
   "id": "4e9e7435",
   "metadata": {},
   "outputs": [],
   "source": [
    "hitting_23['1B'] = hitting_23['H'] - (hitting_23['2B'] + hitting_23['3B'] + hitting_23['HR'])\n",
    "hitting_22['1B'] = hitting_22['H'] - (hitting_22['2B'] + hitting_22['3B'] + hitting_22['HR'])\n",
    "hitting_21['1B'] = hitting_21['H'] - (hitting_21['2B'] + hitting_21['3B'] + hitting_21['HR'])"
   ]
  },
  {
   "cell_type": "code",
   "execution_count": 5,
   "id": "6274e5bd",
   "metadata": {},
   "outputs": [],
   "source": [
    "pitching_23 = pitching_23[pitching_23.IP > 10]\n",
    "pitching_22 = pitching_22[pitching_22.IP > 10]\n",
    "pitching_21 = pitching_21[pitching_21.IP > 10]"
   ]
  },
  {
   "cell_type": "code",
   "execution_count": 6,
   "id": "7240852b",
   "metadata": {},
   "outputs": [],
   "source": [
    "hitting_23 = hitting_23[hitting_23.PA > 20]\n",
    "hitting_22 = hitting_22[hitting_22.PA > 20]\n",
    "hitting_21 = hitting_21[hitting_21.PA > 20]"
   ]
  },
  {
   "cell_type": "code",
   "execution_count": 7,
   "id": "48eaf43e",
   "metadata": {},
   "outputs": [],
   "source": [
    "def calculate_rates(df):\n",
    "    df['BB/In'] = df['BB'] / df['IP']\n",
    "    df['K/In'] = df['SO'] / df['IP']\n",
    "    df['HR/In'] = df['HR'] / df['IP']\n",
    "    df['W/In'] = df['W'] / df['IP']\n",
    "    df['L/In'] = df['L'] / df['IP']\n",
    "    df['S/In'] = df['SV'] / df['IP']\n",
    "    df['ER/In'] = df['ER'] / df['IP']\n",
    "    df['R/In'] = df['R'] / df['IP']\n",
    "    df['G/In'] = df['G'] / df['IP']\n",
    "    df['GS/In'] = df['GS'] / df['IP']\n",
    "    \n",
    "    return df\n",
    "\n",
    "pitching_21 = calculate_rates(pitching_21)\n",
    "pitching_22 = calculate_rates(pitching_22)\n",
    "pitching_23 = calculate_rates(pitching_23)"
   ]
  },
  {
   "cell_type": "code",
   "execution_count": 8,
   "id": "edeb20b7",
   "metadata": {},
   "outputs": [],
   "source": [
    "def calculate_rates_hitters(df):\n",
    "    df['BB/PA'] = df['BB'] / df['PA']\n",
    "    df['K/PA'] = df['SO'] / df['PA']\n",
    "    df['HR/PA'] = df['HR'] / df['PA']\n",
    "    df['R/PA'] = df['R'] / df['PA']\n",
    "    df['1B/PA'] = df['1B'] / df['PA']\n",
    "    df['2B/PA'] = df['2B'] / df['PA']\n",
    "    df['3B/PA'] = df['3B'] / df['PA']\n",
    "    df['SB/PA'] = df['SB'] / df['PA']\n",
    "    df['AB/PA'] = df['AB'] / df['PA']\n",
    "    df['SF/PA'] = df['SF'] / df['PA']\n",
    "    df['CS/PA'] = df['CS'] / df['PA']\n",
    "    df['HBP/PA'] = df['HBP'] / df['PA']\n",
    "    \n",
    "    return df\n",
    "\n",
    "hitting_21 = calculate_rates_hitters(hitting_21)\n",
    "hitting_22 = calculate_rates_hitters(hitting_22)\n",
    "hitting_23 = calculate_rates_hitters(hitting_23)"
   ]
  },
  {
   "cell_type": "code",
   "execution_count": 9,
   "id": "3829fbfd",
   "metadata": {},
   "outputs": [],
   "source": [
    "pitching = pd.concat([pitching_23, pitching_22, pitching_21])\n",
    "hitting = pd.concat([hitting_23, hitting_22, hitting_21])"
   ]
  },
  {
   "cell_type": "code",
   "execution_count": 10,
   "id": "3fa1abe0",
   "metadata": {},
   "outputs": [],
   "source": [
    "pitching_weights = {2023: 3, 2022: 2, 2021: 1}\n",
    "hitting_weights = {2023: 5, 2022: 4, 2021: 3}"
   ]
  },
  {
   "cell_type": "code",
   "execution_count": 11,
   "id": "fed8112c",
   "metadata": {},
   "outputs": [],
   "source": [
    "def calculate_pitching_metrics(group):\n",
    "    divisor = 0\n",
    "    for year, group_data in group.groupby('Year'):\n",
    "        divisor += pitching_weights[year]\n",
    "        \n",
    "    result = {}\n",
    "    for metric in ['K/In', 'BB/In', 'HR/In', 'W/In', 'L/In', 'S/In', 'ER/In', 'R/In', 'G/In', 'GS/In']:\n",
    "        result[metric] = (group[metric] * group.groupby('Year')['Year'].transform(lambda x: int(x.iloc[0]) if not isinstance(x.iloc[0], int) else x.iloc[0]).map(pitching_weights) / divisor).sum()\n",
    "\n",
    "    return pd.Series(result)\n",
    "\n",
    "pitcher_proj = pitching.groupby('Name').apply(calculate_pitching_metrics).reset_index()\n",
    "pitcher_proj = pitcher_proj.merge(pitching.groupby('Name')['Age'].first().reset_index(), on='Name')\n",
    "pitcher_proj['IP'] = pitching.groupby('Name')['IP'].sum().values"
   ]
  },
  {
   "cell_type": "code",
   "execution_count": 12,
   "id": "76bf871a",
   "metadata": {},
   "outputs": [],
   "source": [
    "def calculate_hitting_metrics(group):\n",
    "    divisor = 0\n",
    "    for year, group_data in group.groupby('Year'):\n",
    "        divisor += hitting_weights[year]\n",
    "        \n",
    "    result = {}\n",
    "    for metric in ['K/PA', 'BB/PA', 'HR/PA', '1B/PA', '2B/PA', '3B/PA', 'SB/PA', 'HBP/PA', 'R/PA', 'AB/PA', 'SF/PA', 'CS/PA']:\n",
    "        result[metric] = (group[metric] * group.groupby('Year')['Year'].transform(lambda x: int(x.iloc[0]) if not isinstance(x.iloc[0], int) else x.iloc[0]).map(hitting_weights) / divisor).sum()\n",
    "\n",
    "    return pd.Series(result)\n",
    "\n",
    "hitter_proj = hitting.groupby('Name', group_keys=False).apply(calculate_hitting_metrics).reset_index()\n",
    "hitter_proj = hitter_proj.merge(hitting.groupby('Name')['Age'].first().reset_index(), on='Name')\n",
    "hitter_proj['PA'] = hitting.groupby('Name')['PA'].sum().values"
   ]
  },
  {
   "cell_type": "code",
   "execution_count": 13,
   "id": "9f91800b",
   "metadata": {
    "scrolled": true
   },
   "outputs": [],
   "source": [
    "avg_Kp = pitcher_proj['K/In'].mean()\n",
    "avg_BBp = pitcher_proj['BB/In'].mean()\n",
    "avg_HRp = pitcher_proj['HR/In'].mean()\n",
    "avg_Wp = pitcher_proj['W/In'].mean()\n",
    "avg_Lp = pitcher_proj['L/In'].mean()\n",
    "avg_Sp = pitcher_proj['S/In'].mean()\n",
    "avg_ERp = pitcher_proj['ER/In'].mean()\n",
    "avg_Rp = pitcher_proj['R/In'].mean()\n",
    "avg_Gp = pitcher_proj['G/In'].mean()\n",
    "avg_GSp = pitcher_proj['GS/In'].mean()\n",
    "\n",
    "mask = pitcher_proj['IP'] < 100\n",
    "\n",
    "pitcher_proj.loc[mask, 'K/In'] = (pitcher_proj.loc[mask, 'K/In'] * pitcher_proj.loc[mask, 'IP'] +\n",
    "                                (100 - pitcher_proj.loc[mask, 'IP']) * avg_Kp) / 100\n",
    "\n",
    "pitcher_proj.loc[mask, 'BB/In'] = (pitcher_proj.loc[mask, 'BB/In'] * pitcher_proj.loc[mask, 'IP'] +\n",
    "                                 (100 - pitcher_proj.loc[mask, 'IP']) * avg_BBp) / 100\n",
    "\n",
    "pitcher_proj.loc[mask, 'HR/In'] = (pitcher_proj.loc[mask, 'HR/In'] * pitcher_proj.loc[mask, 'IP'] +\n",
    "                                 (100 - pitcher_proj.loc[mask, 'IP']) * avg_HRp) / 100\n",
    "\n",
    "pitcher_proj.loc[mask, 'W/In'] = (pitcher_proj.loc[mask, 'W/In'] * pitcher_proj.loc[mask, 'IP'] +\n",
    "                                (100 - pitcher_proj.loc[mask, 'IP']) * avg_Wp) / 100\n",
    "\n",
    "pitcher_proj.loc[mask, 'L/In'] = (pitcher_proj.loc[mask, 'L/In'] * pitcher_proj.loc[mask, 'IP'] +\n",
    "                                 (100 - pitcher_proj.loc[mask, 'IP']) * avg_Lp) / 100\n",
    "\n",
    "pitcher_proj.loc[mask, 'S/In'] = (pitcher_proj.loc[mask, 'S/In'] * pitcher_proj.loc[mask, 'IP'] +\n",
    "                                 (100 - pitcher_proj.loc[mask, 'IP']) * avg_Sp) / 100\n",
    "\n",
    "pitcher_proj.loc[mask, 'ER/In'] = (pitcher_proj.loc[mask, 'ER/In'] * pitcher_proj.loc[mask, 'IP'] +\n",
    "                                 (100 - pitcher_proj.loc[mask, 'IP']) * avg_ERp) / 100\n",
    "\n",
    "pitcher_proj.loc[mask, 'R/In'] = (pitcher_proj.loc[mask, 'R/In'] * pitcher_proj.loc[mask, 'IP'] +\n",
    "                                 (100 - pitcher_proj.loc[mask, 'IP']) * avg_Rp) / 100\n",
    "\n",
    "pitcher_proj.loc[mask, 'G/In'] = (pitcher_proj.loc[mask, 'G/In'] * pitcher_proj.loc[mask, 'IP'] +\n",
    "                                 (100 - pitcher_proj.loc[mask, 'IP']) * avg_Gp) / 100\n",
    "\n",
    "pitcher_proj.loc[mask, 'GS/In'] = (pitcher_proj.loc[mask, 'GS/In'] * pitcher_proj.loc[mask, 'IP'] +\n",
    "                                 (100 - pitcher_proj.loc[mask, 'IP']) * avg_GSp) / 100\n",
    "\n",
    "pitcher_proj['Reliability'] = 1 - (100 - pitcher_proj['IP']).clip(0) / 100"
   ]
  },
  {
   "cell_type": "code",
   "execution_count": 14,
   "id": "586256f9",
   "metadata": {},
   "outputs": [],
   "source": [
    "avg_Kp = hitter_proj['K/PA'].mean()\n",
    "avg_BBp = hitter_proj['BB/PA'].mean()\n",
    "avg_HRp = hitter_proj['HR/PA'].mean()\n",
    "avg_s = hitter_proj['1B/PA'].mean()\n",
    "avg_d = hitter_proj['2B/PA'].mean()\n",
    "avg_t = hitter_proj['3B/PA'].mean()\n",
    "avg_sb = hitter_proj['SB/PA'].mean()\n",
    "avg_r = hitter_proj['R/PA'].mean()\n",
    "avg_hbp = hitter_proj['HBP/PA'].mean()\n",
    "avg_ab = hitter_proj['AB/PA'].mean()\n",
    "avg_sf = hitter_proj['SF/PA'].mean()\n",
    "avg_cs = hitter_proj['CS/PA'].mean()\n",
    "\n",
    "mask = hitter_proj['PA'] < 400\n",
    "\n",
    "hitter_proj.loc[mask, 'K/PA'] = (hitter_proj.loc[mask, 'K/PA'] * hitter_proj.loc[mask, 'PA'] +\n",
    "                                (400 - hitter_proj.loc[mask, 'PA']) * avg_Kp) / 400\n",
    "\n",
    "hitter_proj.loc[mask, 'BB/PA'] = (hitter_proj.loc[mask, 'BB/PA'] * hitter_proj.loc[mask, 'PA'] +\n",
    "                                 (400 - hitter_proj.loc[mask, 'PA']) * avg_BBp) / 400\n",
    "\n",
    "hitter_proj.loc[mask, 'HR/PA'] = (hitter_proj.loc[mask, 'HR/PA'] * hitter_proj.loc[mask, 'PA'] +\n",
    "                                 (400 - hitter_proj.loc[mask, 'PA']) * avg_HRp) / 400\n",
    "\n",
    "hitter_proj.loc[mask, '1B/PA'] = (hitter_proj.loc[mask, '1B/PA'] * hitter_proj.loc[mask, 'PA'] +\n",
    "                                 (400 - hitter_proj.loc[mask, 'PA']) * avg_s) / 400\n",
    "\n",
    "hitter_proj.loc[mask, '2B/PA'] = (hitter_proj.loc[mask, '2B/PA'] * hitter_proj.loc[mask, 'PA'] +\n",
    "                                 (400 - hitter_proj.loc[mask, 'PA']) * avg_d) / 400\n",
    "\n",
    "hitter_proj.loc[mask, '3B/PA'] = (hitter_proj.loc[mask, '3B/PA'] * hitter_proj.loc[mask, 'PA'] +\n",
    "                                 (400 - hitter_proj.loc[mask, 'PA']) * avg_t) / 400\n",
    "\n",
    "hitter_proj.loc[mask, 'SB/PA'] = (hitter_proj.loc[mask, 'SB/PA'] * hitter_proj.loc[mask, 'PA'] +\n",
    "                                 (400 - hitter_proj.loc[mask, 'PA']) * avg_sb) / 400\n",
    "\n",
    "hitter_proj.loc[mask, 'R/PA'] = (hitter_proj.loc[mask, 'R/PA'] * hitter_proj.loc[mask, 'PA'] +\n",
    "                                 (400 - hitter_proj.loc[mask, 'PA']) * avg_r) / 400\n",
    "\n",
    "hitter_proj.loc[mask, 'HBP/PA'] = (hitter_proj.loc[mask, 'HBP/PA'] * hitter_proj.loc[mask, 'PA'] +\n",
    "                                 (400 - hitter_proj.loc[mask, 'PA']) * avg_hbp) / 400\n",
    "\n",
    "hitter_proj.loc[mask, 'AB/PA'] = (hitter_proj.loc[mask, 'AB/PA'] * hitter_proj.loc[mask, 'PA'] +\n",
    "                                 (400 - hitter_proj.loc[mask, 'PA']) * avg_ab) / 400\n",
    "\n",
    "hitter_proj.loc[mask, 'SF/PA'] = (hitter_proj.loc[mask, 'SF/PA'] * hitter_proj.loc[mask, 'PA'] +\n",
    "                                 (400 - hitter_proj.loc[mask, 'PA']) * avg_sf) / 400\n",
    "\n",
    "hitter_proj.loc[mask, 'CS/PA'] = (hitter_proj.loc[mask, 'CS/PA'] * hitter_proj.loc[mask, 'PA'] +\n",
    "                                 (400 - hitter_proj.loc[mask, 'PA']) * avg_cs) / 400\n",
    "\n",
    "hitter_proj['Reliability'] = 1 - (400 - hitter_proj['PA']).clip(0) / 400"
   ]
  },
  {
   "cell_type": "code",
   "execution_count": 15,
   "id": "592037e8",
   "metadata": {},
   "outputs": [],
   "source": [
    "projections_24 = pitching_23[['Name', 'Team']].merge(pitcher_proj, on='Name', how='inner')\n",
    "projections_hit_24 = hitting_23[['Name', 'Team']].merge(hitter_proj, on='Name', how='inner')"
   ]
  },
  {
   "cell_type": "code",
   "execution_count": 16,
   "id": "0372ad40",
   "metadata": {},
   "outputs": [],
   "source": [
    "for p in projections_24.Name.unique():\n",
    "    p_data = pitching_22[pitching_22['Name'] == p]\n",
    "    ip_23 = pitching_23[pitching_23['Name'] == p].IP.values[0]\n",
    "    if len(p_data) == 0:\n",
    "        if ip_23 <= pitching_23.IP.mean():\n",
    "            proj_ip = .5 * ip_23 + 15\n",
    "        else:\n",
    "            proj_ip = .5 * ip_23 + 30\n",
    "    else: \n",
    "        if ip_23 <= pitching_23.IP.mean():\n",
    "            proj_ip = .5 * ip_23 + .1 * p_data['IP'].values[0] + 15\n",
    "        else:\n",
    "            proj_ip = .5 * ip_23 + .1 * p_data['IP'].values[0] + 30\n",
    "    projections_24.loc[projections_24['Name'] == p, 'IP'] = proj_ip"
   ]
  },
  {
   "cell_type": "code",
   "execution_count": 17,
   "id": "d0e7cd17",
   "metadata": {},
   "outputs": [
    {
     "name": "stderr",
     "output_type": "stream",
     "text": [
      "C:\\Users\\kellyjc\\AppData\\Local\\Temp\\ipykernel_10504\\317420038.py:8: FutureWarning: Setting an item of incompatible dtype is deprecated and will raise in a future error of pandas. Value '354.9' has dtype incompatible with int64, please explicitly cast to a compatible dtype first.\n",
      "  projections_hit_24.loc[projections_hit_24['Name'] == h, 'PA'] = proj_pa\n"
     ]
    }
   ],
   "source": [
    "for h in projections_hit_24['Name'].unique():\n",
    "    h_data = hitting_22[hitting_22['Name'] == h]\n",
    "    pa_23 = hitting_23[hitting_23['Name'] == h]['PA'].values[0]\n",
    "    if len(h_data) == 0:\n",
    "        proj_pa = 0.5 * pa_23 + 100\n",
    "    else:\n",
    "        proj_pa = 0.5 * pa_23 + 0.1 * h_data['PA'].values[0] + 100\n",
    "    projections_hit_24.loc[projections_hit_24['Name'] == h, 'PA'] = proj_pa"
   ]
  },
  {
   "cell_type": "code",
   "execution_count": 18,
   "id": "7452d654",
   "metadata": {},
   "outputs": [],
   "source": [
    "projections_24['Age'] = pd.to_numeric(projections_24['Age'], errors='coerce')\n",
    "projections_24['Age'] += 1\n",
    "projections_24.loc[projections_24['Age'] >= 29, 'AgeAdj'] = 1 / (1 + (((projections_24['Age'] - 29) - 29) * 0.003))\n",
    "projections_24.loc[projections_24['Age'] < 29, 'AgeAdj'] = 1 + ((29 - (projections_24['Age'] - 29)) * 0.006)"
   ]
  },
  {
   "cell_type": "code",
   "execution_count": 19,
   "id": "80363d46",
   "metadata": {},
   "outputs": [],
   "source": [
    "projections_hit_24['Age'] = pd.to_numeric(projections_hit_24['Age'], errors='coerce')\n",
    "projections_hit_24['Age'] += 1\n",
    "projections_hit_24.loc[projections_hit_24['Age'] >= 29, 'AgeAdj'] = 1 / (1 + (((projections_hit_24['Age'] - 29) - 29) * 0.003))\n",
    "projections_hit_24.loc[projections_hit_24['Age'] < 29, 'AgeAdj'] = 1 + ((29 - (projections_hit_24['Age'] - 29)) * 0.006)"
   ]
  },
  {
   "cell_type": "code",
   "execution_count": 20,
   "id": "189b310e",
   "metadata": {},
   "outputs": [],
   "source": [
    "projections_24['IP'] *= projections_24['AgeAdj']\n",
    "projections_hit_24['PA'] *= projections_hit_24['AgeAdj']"
   ]
  },
  {
   "cell_type": "code",
   "execution_count": 21,
   "id": "7e0bdc8e",
   "metadata": {},
   "outputs": [],
   "source": [
    "projections_24 = projections_24.dropna(subset=['IP'])\n",
    "projections_hit_24 = projections_hit_24.dropna(subset=['PA'])"
   ]
  },
  {
   "cell_type": "code",
   "execution_count": 22,
   "id": "e07adf7a",
   "metadata": {
    "scrolled": true
   },
   "outputs": [],
   "source": [
    "projections_24['K'] = projections_24['K/In'] * projections_24['IP']\n",
    "projections_24['BB'] = projections_24['BB/In'] * projections_24['IP']\n",
    "projections_24['HR'] = projections_24['HR/In'] * projections_24['IP']\n",
    "projections_24['W'] = projections_24['W/In'] * projections_24['IP']\n",
    "projections_24['L'] = projections_24['L/In'] * projections_24['IP']\n",
    "projections_24['S'] = projections_24['S/In'] * projections_24['IP']\n",
    "projections_24['ER'] = projections_24['ER/In'] * projections_24['IP']\n",
    "projections_24['R'] = projections_24['R/In'] * projections_24['IP']\n",
    "projections_24['G'] = projections_24['G/In'] * projections_24['IP']\n",
    "projections_24['GS'] = projections_24['GS/In'] * projections_24['IP']\n",
    "\n",
    "projections_24['K'] = projections_24['K'].apply(math.floor)\n",
    "projections_24['BB'] = projections_24['BB'].apply(math.floor)\n",
    "projections_24['HR'] = projections_24['HR'].apply(math.floor)\n",
    "projections_24['W'] = projections_24['W'].apply(math.floor)\n",
    "projections_24['L'] = projections_24['L'].apply(math.floor)\n",
    "projections_24['S'] = projections_24['S'].apply(math.floor)\n",
    "projections_24['ER'] = projections_24['ER'].apply(math.floor)\n",
    "projections_24['R'] = projections_24['R'].apply(math.floor)\n",
    "projections_24['G'] = projections_24['G'].apply(math.floor)\n",
    "projections_24['GS'] = projections_24['GS'].apply(math.floor)"
   ]
  },
  {
   "cell_type": "code",
   "execution_count": 23,
   "id": "f886c690",
   "metadata": {},
   "outputs": [],
   "source": [
    "projections_hit_24['SB'] = projections_hit_24['SB/PA'] * projections_hit_24['PA']\n",
    "projections_hit_24['HR'] = projections_hit_24['HR/PA'] * projections_hit_24['PA']\n",
    "projections_hit_24['K'] = projections_hit_24['K/PA'] * projections_hit_24['PA']\n",
    "projections_hit_24['BB'] = projections_hit_24['BB/PA'] * projections_hit_24['PA']\n",
    "projections_hit_24['1B'] = projections_hit_24['1B/PA'] * projections_hit_24['PA']\n",
    "projections_hit_24['2B'] = projections_hit_24['2B/PA'] * projections_hit_24['PA']\n",
    "projections_hit_24['3B'] = projections_hit_24['3B/PA'] * projections_hit_24['PA']\n",
    "projections_hit_24['SO'] = projections_hit_24['K/PA'] * projections_hit_24['PA']\n",
    "projections_hit_24['R'] = projections_hit_24['R/PA'] * projections_hit_24['PA']\n",
    "projections_hit_24['SB'] = projections_hit_24['SB/PA'] * projections_hit_24['PA']\n",
    "projections_hit_24['HBP'] = projections_hit_24['HBP/PA'] * projections_hit_24['PA']\n",
    "projections_hit_24['SF'] = projections_hit_24['SF/PA'] * projections_hit_24['PA']\n",
    "projections_hit_24['AB'] = projections_hit_24['AB/PA'] * projections_hit_24['PA']\n",
    "projections_hit_24['CS'] = projections_hit_24['CS/PA'] * projections_hit_24['PA']\n",
    "\n",
    "projections_hit_24['K'] = projections_hit_24['K'].apply(math.floor)\n",
    "projections_hit_24['BB'] = projections_hit_24['BB'].apply(math.floor)\n",
    "projections_hit_24['HR'] = projections_hit_24['HR'].apply(math.floor)\n",
    "projections_hit_24['SB'] = projections_hit_24['SB'].apply(math.floor)\n",
    "projections_hit_24['1B'] = projections_hit_24['1B'].apply(math.floor)\n",
    "projections_hit_24['2B'] = projections_hit_24['2B'].apply(math.floor)\n",
    "projections_hit_24['3B'] = projections_hit_24['3B'].apply(math.floor)\n",
    "projections_hit_24['SO'] = projections_hit_24['SO'].apply(math.floor)\n",
    "projections_hit_24['R'] = projections_hit_24['R'].apply(math.floor)\n",
    "projections_hit_24['SB'] = projections_hit_24['SB'].apply(math.floor)\n",
    "projections_hit_24['HBP'] = projections_hit_24['HBP'].apply(math.floor)\n",
    "projections_hit_24['AB'] = projections_hit_24['AB'].apply(math.floor)\n",
    "projections_hit_24['SF'] = projections_hit_24['SF'].apply(math.floor)\n",
    "projections_hit_24['CS'] = projections_hit_24['CS'].apply(math.floor)"
   ]
  },
  {
   "cell_type": "code",
   "execution_count": 24,
   "id": "36803ecb",
   "metadata": {},
   "outputs": [],
   "source": [
    "woba_vals = {'BB': 0.696, 'HBP': 0.726, '1B': 0.883, '2B': 1.244, '3B': 1.569, 'HR': 2.004, 'SB': .200, 'CS': .422}\n",
    "\n",
    "def calculate_woba(df):\n",
    "    woba = (\n",
    "        (woba_vals['BB'] * df['BB'] +\n",
    "        woba_vals['1B'] * df['1B'] +\n",
    "        woba_vals['2B'] * df['2B'] +\n",
    "        woba_vals['3B'] * df['3B'] +\n",
    "        woba_vals['HR'] * df['HR'])  \n",
    "        / (df['AB'] + df['BB'] + df['SF'] + df['HBP']))\n",
    "    return woba\n",
    "\n",
    "def calculate_woba_war(df):\n",
    "    woba = (\n",
    "        (woba_vals['BB'] * df['BB'] +\n",
    "        woba_vals['1B'] * df['1B'] +\n",
    "        woba_vals['2B'] * df['2B'] +\n",
    "        woba_vals['3B'] * df['3B'] +\n",
    "        woba_vals['HR'] * df['HR'] +\n",
    "        woba_vals['CS'] * df['CS'] +\n",
    "        woba_vals['SB'] * df['SB'])  \n",
    "        / (df['AB'] + df['BB'] + df['SF']))\n",
    "    return woba\n",
    "\n",
    "def calculate_babip(df):\n",
    "    babip = (\n",
    "        (df['H'] - df['HR']) / (df['AB'] - df['K'] - df['HR'] + df['SF']))\n",
    "    return babip"
   ]
  },
  {
   "cell_type": "code",
   "execution_count": 25,
   "id": "4a84ecb2",
   "metadata": {},
   "outputs": [],
   "source": [
    "projections_hit_24['H'] = projections_hit_24['1B'] + projections_hit_24['2B'] + projections_hit_24['3B'] + projections_hit_24['HR']\n",
    "\n",
    "projections_hit_24['wOBA'] = calculate_woba(projections_hit_24)\n",
    "projections_hit_24['wOBA_WAR'] = calculate_woba_war(projections_hit_24) \n",
    "projections_hit_24['BAbip'] = calculate_babip(projections_hit_24)\n",
    "projections_hit_24['OBP'] = (projections_hit_24['H'] + projections_hit_24['HBP'] + projections_hit_24['BB']) / projections_hit_24['PA']\n",
    "projections_hit_24['BA'] = projections_hit_24['H'] / (projections_hit_24['AB'])\n",
    "projections_hit_24['SLG'] = (projections_hit_24['1B'] * 1 + projections_hit_24['2B'] * 2 + projections_hit_24['3B'] * 3 + projections_hit_24['HR'] * 4) / (projections_hit_24['AB'])"
   ]
  },
  {
   "cell_type": "code",
   "execution_count": 26,
   "id": "9d7079a6",
   "metadata": {},
   "outputs": [],
   "source": [
    "def calculate_fip(df):\n",
    "    f_constant = df.ERA.mean() - (((13 * df.HR.sum()) + (3 * (df.BB.sum())) - (2 * df.K.sum())) / df.IP.sum())\n",
    "    return f_constant + (((13 * df.HR) + (3 * df.BB) - (2 * df.K)) / df.IP)\n",
    "\n",
    "projections_24['ERA'] = 9 * projections_24['ER'] / projections_24['IP']\n",
    "projections_24['FIP'] = calculate_fip(projections_24)\n",
    "projections_24['BB/9'] = (projections_24['BB'] / projections_24['IP']) * 9\n",
    "projections_24['RA9'] = (projections_24['R'] / projections_24['IP']) * 9\n",
    "projections_24['K/9'] = (projections_24['K'] / projections_24['IP']) * 9\n",
    "projections_24['K/BB'] = projections_24['K']  / projections_24['BB']"
   ]
  },
  {
   "cell_type": "code",
   "execution_count": 27,
   "id": "144237e9",
   "metadata": {},
   "outputs": [],
   "source": [
    "projections_24 = projections_24[['Name', 'Age', 'Team', 'IP', 'G', 'GS', 'W', 'L', 'S', 'K', 'BB', 'HR', 'R', 'ERA', 'FIP', 'BB/9', 'K/9', 'K/BB', 'RA9', 'Reliability']]"
   ]
  },
  {
   "cell_type": "code",
   "execution_count": 28,
   "id": "34eef33c",
   "metadata": {},
   "outputs": [],
   "source": [
    "projections_hit_24 = projections_hit_24[['Name', 'Age', 'Team', 'PA', '1B', '2B', '3B', 'HR', 'R', 'SO', 'SB', 'BB', 'HBP', 'wOBA', 'BA', 'SLG', 'OBP', 'BAbip', 'wOBA_WAR', 'Reliability']]"
   ]
  },
  {
   "cell_type": "code",
   "execution_count": 29,
   "id": "7a1d45ba",
   "metadata": {},
   "outputs": [],
   "source": [
    "projections_24.to_csv('../Frontier-League-Savant/csvs/2024 Pitcher Projections.csv')"
   ]
  },
  {
   "cell_type": "code",
   "execution_count": 30,
   "id": "fd64b4c9",
   "metadata": {},
   "outputs": [],
   "source": [
    "projections_hit_24.to_csv('../Frontier-League-Savant/csvs/2024 Hitter Projections.csv')"
   ]
  }
 ],
 "metadata": {
  "kernelspec": {
   "display_name": "Python 3 (ipykernel)",
   "language": "python",
   "name": "python3"
  },
  "language_info": {
   "codemirror_mode": {
    "name": "ipython",
    "version": 3
   },
   "file_extension": ".py",
   "mimetype": "text/x-python",
   "name": "python",
   "nbconvert_exporter": "python",
   "pygments_lexer": "ipython3",
   "version": "3.9.7"
  }
 },
 "nbformat": 4,
 "nbformat_minor": 5
}
