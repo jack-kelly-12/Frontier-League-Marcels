{
 "cells": [
  {
   "cell_type": "code",
   "execution_count": 1,
   "id": "bf8ac95e",
   "metadata": {},
   "outputs": [],
   "source": [
    "import requests\n",
    "from bs4 import BeautifulSoup, Comment\n",
    "import time\n",
    "import pandas as pd"
   ]
  },
  {
   "cell_type": "code",
   "execution_count": 5,
   "id": "e2466c02",
   "metadata": {},
   "outputs": [],
   "source": [
    "url = \"https://www.baseball-reference.com/register/league.cgi?code=FRON&class=Ind\"\n",
    "response = requests.get(url)\n",
    "base_url = \"https://www.baseball-reference.com\"\n",
    "\n",
    "def get_teams_by_year():\n",
    "    teams_by_year = {}\n",
    "    if response.status_code == 200:\n",
    "        soup = BeautifulSoup(response.content, 'html.parser')\n",
    "\n",
    "        table = soup.find('table', {'class': 'suppress_all sortable stats_table'})\n",
    "        bodies = table.find_all('tbody')\n",
    "\n",
    "        for body in bodies:\n",
    "            rows = body.find_all('tr')\n",
    "\n",
    "            for row in rows:\n",
    "                year = row.find('th', {'data-stat': 'year_ID'}).find('a').text\n",
    "                teams = [base_url + team['href'] for team in row.find('td', {'data-stat': 'team_ID'}).find_all('a')]\n",
    "                team_names = [team.text for team in row.find('td', {'data-stat': 'team_ID'}).find_all('a')]\n",
    "\n",
    "                if year not in teams_by_year:\n",
    "                    teams_by_year[year] = list(zip(teams, team_names))\n",
    "                else:\n",
    "                    teams_by_year[year].extend(list(zip(teams, team_names)))\n",
    "    return teams_by_year\n",
    "\n",
    "def get_batting_df(year, teams_by_year):\n",
    "    batting_data = []\n",
    "\n",
    "    teams = teams_by_year[year]\n",
    "    for team_url, team_name in teams:\n",
    "        response = requests.get(team_url)\n",
    "        soup = BeautifulSoup(response.content, 'html.parser')\n",
    "\n",
    "        table = soup.find('table', {'class': 'sortable stats_table', 'id': 'team_batting'})\n",
    "        if table is not None:\n",
    "            data = []\n",
    "            for row in table.find('tbody').find_all('tr'):\n",
    "                row_data = [td.get_text(strip=True) for td in row.find_all(['td', 'th'])]\n",
    "                data.append(row_data)\n",
    "\n",
    "            columns = [th.get_text(strip=True) for th in table.find('thead').find_all('th')]\n",
    "            batting_df = pd.DataFrame(data, columns=columns)\n",
    "            batting_df['Team'] = team_name\n",
    "            batting_data.append(batting_df)\n",
    "            time.sleep(10)\n",
    "\n",
    "    if batting_data:\n",
    "        result_df = pd.concat(batting_data, ignore_index=True)\n",
    "        return result_df\n",
    "    else:\n",
    "        return None\n",
    "\n",
    "def get_pitching_df(year, teams_by_year):\n",
    "    pitching_data = []\n",
    "\n",
    "    teams = teams_by_year[year]\n",
    "    for team_url, team_name in teams:\n",
    "        response = requests.get(team_url)\n",
    "        soup = BeautifulSoup(response.content, 'html.parser')\n",
    "        comments = soup.find_all(string=lambda text: isinstance(text, Comment))\n",
    "        table_comment = next((comment for comment in comments if 'team_pitching' in comment), None)\n",
    "        table_soup = BeautifulSoup(table_comment, 'html.parser')\n",
    "        table = table_soup.find('table', {'class': 'sortable stats_table', 'id': 'team_pitching'})\n",
    "        if table is not None:\n",
    "            data = []\n",
    "            for row in table.find('tbody').find_all('tr'):\n",
    "                row_data = [td.get_text(strip=True) for td in row.find_all(['td', 'th'])]\n",
    "                data.append(row_data)\n",
    "            columns = [th.get_text(strip=True) for th in table.find('thead').find_all('th')]\n",
    "            pitching_df = pd.DataFrame(data, columns=columns)\n",
    "            pitching_df['Team'] = team_name\n",
    "            pitching_data.append(pitching_df)\n",
    "\n",
    "            time.sleep(10)\n",
    "\n",
    "    if pitching_data:\n",
    "        result_df = pd.concat(pitching_data, ignore_index=True)\n",
    "        return result_df\n",
    "    else:\n",
    "        return None"
   ]
  },
  {
   "cell_type": "code",
   "execution_count": 3,
   "id": "f9394446",
   "metadata": {},
   "outputs": [],
   "source": [
    "tby = get_teams_by_year()\n",
    "batting_23 = get_batting_df('2023', tby)\n",
    "batting_22 = get_batting_df('2022', tby)\n",
    "batting_21 = get_batting_df('2021', tby)"
   ]
  },
  {
   "cell_type": "code",
   "execution_count": 6,
   "id": "9979c3ac",
   "metadata": {},
   "outputs": [],
   "source": [
    "pitching_23 = get_pitching_df('2023', tby)\n",
    "pitching_22 = get_pitching_df('2022', tby)\n",
    "pitching_21 = get_pitching_df('2021', tby)"
   ]
  },
  {
   "cell_type": "code",
   "execution_count": 8,
   "id": "8bbe6dc0",
   "metadata": {},
   "outputs": [],
   "source": [
    "batting_23.to_csv('../Joliet Slammers/Baseball Reference/2023 Frontier League Hitting.csv')\n",
    "batting_22.to_csv('../Joliet Slammers/Baseball Reference/2022 Frontier League Hitting.csv')\n",
    "batting_21.to_csv('../Joliet Slammers/Baseball Reference/2021 Frontier League Hitting.csv')\n",
    "\n",
    "pitching_23.to_csv('../Joliet Slammers/Baseball Reference/2023 Frontier League Pitching.csv')\n",
    "pitching_22.to_csv('../Joliet Slammers/Baseball Reference/2022 Frontier League Pitching.csv')\n",
    "pitching_21.to_csv('../Joliet Slammers/Baseball Reference/2021 Frontier League Pitching.csv')"
   ]
  }
 ],
 "metadata": {
  "kernelspec": {
   "display_name": "Python 3 (ipykernel)",
   "language": "python",
   "name": "python3"
  },
  "language_info": {
   "codemirror_mode": {
    "name": "ipython",
    "version": 3
   },
   "file_extension": ".py",
   "mimetype": "text/x-python",
   "name": "python",
   "nbconvert_exporter": "python",
   "pygments_lexer": "ipython3",
   "version": "3.9.7"
  }
 },
 "nbformat": 4,
 "nbformat_minor": 5
}
